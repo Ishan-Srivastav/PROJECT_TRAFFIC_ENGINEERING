{
 "cells": [
  {
   "attachments": {},
   "cell_type": "markdown",
   "metadata": {},
   "source": [
    "# TRAFFIC ENGINEERING PROJECT"
   ]
  },
  {
   "attachments": {},
   "cell_type": "markdown",
   "metadata": {},
   "source": [
    "#### BASE IMPORTS"
   ]
  },
  {
   "cell_type": "code",
   "execution_count": null,
   "metadata": {},
   "outputs": [],
   "source": [
    "import random\n",
    "import matplotlib.pyplot as plt\n",
    "plt.style.use('seaborn-whitegrid')\n",
    "import numpy as np\n",
    "import time"
   ]
  },
  {
   "attachments": {},
   "cell_type": "markdown",
   "metadata": {},
   "source": [
    "#### BASE VALUES"
   ]
  },
  {
   "cell_type": "code",
   "execution_count": null,
   "metadata": {},
   "outputs": [],
   "source": [
    "NO_OF_LANES = 3\n",
    "LENGTH_OF_ROAD = 1000 #in meters\n",
    "TIME_INTERVAL_PER_FRAME = 0.1 #in seconds\n",
    "LANE_WIDTH = 3.5 #in meters"
   ]
  },
  {
   "attachments": {},
   "cell_type": "markdown",
   "metadata": {},
   "source": [
    "#### VEHICLE CLASS"
   ]
  },
  {
   "cell_type": "code",
   "execution_count": null,
   "metadata": {},
   "outputs": [],
   "source": [
    "class Vehicle:\n",
    "    def __init__(self, lane, speed, accln, length, width, time_update):\n",
    "        self.lane = lane\n",
    "        self.speed = speed\n",
    "        self.accln = accln\n",
    "        self.x = 0\n",
    "        self.time_update = time_update\n",
    "        self.length = length\n",
    "        self.width = width\n",
    "        \n",
    "    def move(self):\n",
    "        self.speed += self.accln\n",
    "        self.x += self.speed\n",
    "        \n",
    "    def change_lane(self, vehicles):\n",
    "        possible_lanes = [i for i in range(sim.num_lanes) if i != self.lane]\n",
    "        for lane in possible_lanes:\n",
    "            vehicles_ahead = [v for v in vehicles if v.x > self.x and v.lane == lane]\n",
    "            if not vehicles_ahead or min(vehicles_ahead, key = lambda v: v.x).x - self.x >= self.length:\n",
    "                self.lane = lane\n",
    "                break"
   ]
  },
  {
   "attachments": {},
   "cell_type": "markdown",
   "metadata": {},
   "source": [
    "#### SIMULATION CLASS"
   ]
  },
  {
   "cell_type": "code",
   "execution_count": null,
   "metadata": {},
   "outputs": [],
   "source": [
    "class Simulation:\n",
    "    def __init__(self, num_lanes, length, time_interval, lane_width):\n",
    "        self.num_lanes = num_lanes\n",
    "        self.length = length\n",
    "        self.time_interval = time_interval\n",
    "        self.vehicles = []\n",
    "        self.lane_width = lane_width\n",
    "        \n",
    "    def spawn_vehicle(self):\n",
    "        lane = random.randint(0, self.num_lanes - 1)\n",
    "        speed = random.randint(2, 10)\n",
    "        acceleration = random.randint(2,3)\n",
    "        length = random.randint(2, 5)\n",
    "        width = random.randint(1, 2)\n",
    "        self.vehicles.append(Vehicle(lane, speed, acceleration,length, width, self.time_interval))\n",
    "\n",
    "    def run(self):\n",
    "        for i in range(self.length):\n",
    "            if random.random() < 0.1:\n",
    "                self.spawn_vehicle()\n",
    "            for v in self.vehicles:\n",
    "                v.move()\n",
    "                if random.random() < 0.1:\n",
    "                    v.change_lane(self.vehicles)\n",
    "                self.vehicles[:] = [v for v in self.vehicles if v.x < self.length]\n",
    "            self.visualize()\n",
    "            time.sleep(self.time_interval)\n",
    "\n",
    "    def visualize(self):\n",
    "        plt.clf()\n",
    "        for v in self.vehicles:\n",
    "            plt.gca().add_patch(plt.Rectangle((v.x, v.lane*self.lane_width-v.width/2), v.length, v.width, fill=True))\n",
    "        plt.xlim(0, self.length)\n",
    "        plt.ylim(-1, self.num_lanes*self.lane_width)\n",
    "        plt.pause(0.01)\n"
   ]
  },
  {
   "attachments": {},
   "cell_type": "markdown",
   "metadata": {},
   "source": [
    "### FINAL RUN CODE"
   ]
  },
  {
   "cell_type": "code",
   "execution_count": null,
   "metadata": {},
   "outputs": [],
   "source": [
    "sim = Simulation(NO_OF_LANES, LENGTH_OF_ROAD, TIME_INTERVAL_PER_FRAME, LANE_WIDTH)\n",
    "sim.run()\n",
    "plt.show()"
   ]
  }
 ],
 "metadata": {
  "kernelspec": {
   "display_name": "Python 3",
   "language": "python",
   "name": "python3"
  },
  "language_info": {
   "codemirror_mode": {
    "name": "ipython",
    "version": 3
   },
   "file_extension": ".py",
   "mimetype": "text/x-python",
   "name": "python",
   "nbconvert_exporter": "python",
   "pygments_lexer": "ipython3",
   "version": "3.9.5"
  },
  "orig_nbformat": 4,
  "vscode": {
   "interpreter": {
    "hash": "aee8b7b246df8f9039afb4144a1f6fd8d2ca17a180786b69acc140d282b71a49"
   }
  }
 },
 "nbformat": 4,
 "nbformat_minor": 2
}
